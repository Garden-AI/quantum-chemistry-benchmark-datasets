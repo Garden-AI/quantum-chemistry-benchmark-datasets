{
 "cells": [
  {
   "cell_type": "markdown",
   "id": "b94a6bbe-3a9d-43f1-b640-17de550ef09e",
   "metadata": {},
   "source": [
    "# Describe the Dataset and Publish it to Foundry\n",
    "We are going to define the names of the columns then how to read it"
   ]
  },
  {
   "cell_type": "code",
   "execution_count": 1,
   "id": "47039d89-ac9a-419f-b796-dfceca897be5",
   "metadata": {},
   "outputs": [],
   "source": [
    "from foundry import Foundry\n",
    "import pandas as pd"
   ]
  },
  {
   "cell_type": "markdown",
   "id": "f73cffe4-6279-4967-927c-f1a61205c5c5",
   "metadata": {},
   "source": [
    "## Create the Foundry Object\n",
    "This is how we'll be connecting to the web service"
   ]
  },
  {
   "cell_type": "code",
   "execution_count": 2,
   "id": "111c62f6-0f21-4805-9513-a7d1c7c4ba29",
   "metadata": {},
   "outputs": [],
   "source": [
    "f = Foundry()"
   ]
  },
  {
   "cell_type": "markdown",
   "id": "d9bbd6d0-ba5c-432b-aa69-d15ddc6ea790",
   "metadata": {},
   "source": [
    "## Make describes for each column\n",
    "We want to make sure we can read the whole thing"
   ]
  },
  {
   "cell_type": "code",
   "execution_count": 3,
   "id": "a02612ec-2e81-419c-a327-8f50bb30867b",
   "metadata": {},
   "outputs": [],
   "source": [
    "data = pd.read_csv('QMC_AMIONS_NI_LE.csv')"
   ]
  },
  {
   "cell_type": "code",
   "execution_count": 4,
   "id": "0a6cda07-5776-4724-b216-9e60b789e2da",
   "metadata": {},
   "outputs": [
    {
     "data": {
      "text/plain": [
       "Index(['fragment', 'smiles', 'inchi', 'xyz', 'HF', 'DMC(HF)', 'DMC(HF)_err',\n",
       "       'PBE', 'DMC(PBE)', 'DMC(PBE)_err', 'PBE0', 'DMC(PBE0)', 'DMC(PBE0)_err',\n",
       "       'B3LYP', 'DMC(B3LYP)', 'DMC(B3LYP)_err'],\n",
       "      dtype='object')"
      ]
     },
     "execution_count": 4,
     "metadata": {},
     "output_type": "execute_result"
    }
   ],
   "source": [
    "data.columns"
   ]
  },
  {
   "cell_type": "markdown",
   "id": "b0c6a121-bd09-410b-8881-b878bde464d0",
   "metadata": {},
   "source": [
    "Start with the identifiers"
   ]
  },
  {
   "cell_type": "code",
   "execution_count": 5,
   "id": "8e950036-67f1-4614-91c3-61c136f42254",
   "metadata": {},
   "outputs": [],
   "source": [
    "keys = [\n",
    "    {'key': 'fragment', 'units': '', 'type': 'input', 'description': 'Fragment ID - to match with full dataset'},\n",
    "    {'key': 'smiles', 'units': '', 'type': 'input', 'description': 'SMILES string of the molecule'},\n",
    "    {'key': 'inchi', 'units': '', 'type': 'input', 'description': 'InChI string of the molecule'},\n",
    "    {'key': 'xyz', 'units': '', 'type': 'input', 'description': 'XYZ-formatted string of the molecule structure'},\n",
    "]"
   ]
  },
  {
   "cell_type": "markdown",
   "id": "777b8d7b-23f0-4959-a653-24bb62de77b3",
   "metadata": {},
   "source": [
    "Generate the description of the energy-related keys procedurally"
   ]
  },
  {
   "cell_type": "code",
   "execution_count": 6,
   "id": "f3b20b93-9b0b-4024-84cc-e13588613458",
   "metadata": {},
   "outputs": [],
   "source": [
    "for trial_method in ['HF', 'PBE', 'PBE0', 'B3LYP']: \n",
    "    qchem_desc = 'an all-electron computation using '\n",
    "    qchem_desc += ('the Hartree-Fock method' if trial_method == 'HF' else f'Density-functional theory (DFT) with the {trial_method} exchange-correlation functional.')\n",
    "    keys.extend([\n",
    "        {'key': trial_method, 'units': 'Ha', 'type': 'target', 'description': 'Energy from ' + qchem_desc},\n",
    "        {'key': f'DMC({trial_method})', 'units': 'Ha', 'type': 'target', 'description': 'Energy from a Diffusion Monte Carlo calculation using a trial wavefunction from ' + qchem_desc},\n",
    "        {'key': f'DMC({trial_method})_err', 'units': 'Ha', 'type': 'target', 'description': f'Uncertainty associated with DMC({trial_method})'}\n",
    "    ])"
   ]
  },
  {
   "cell_type": "markdown",
   "id": "12b7a2fa-b7d7-4d2a-b0b1-1d0d73aaf522",
   "metadata": {},
   "source": [
    "Make sure we got all of the columns in the correct order"
   ]
  },
  {
   "cell_type": "code",
   "execution_count": 7,
   "id": "d6844479-9f6e-421d-a2e7-a5d48da62656",
   "metadata": {},
   "outputs": [],
   "source": [
    "assert data.columns.tolist() == [x['key'] for x in keys]"
   ]
  },
  {
   "cell_type": "code",
   "execution_count": 16,
   "id": "58a9640d-0455-46fb-89c0-16453df06cfe",
   "metadata": {},
   "outputs": [],
   "source": [
    "dataset_metadata = {\n",
    "    'keys': keys,\n",
    "    'splits': [{'type': 'train', 'path': 'QMC_AMIONS_NI_LE.csv'}],\n",
    "    'type': 'tabular',\n",
    "}"
   ]
  },
  {
   "cell_type": "markdown",
   "id": "cd94b1d4-491d-4a76-b7c6-e9b4a1618caf",
   "metadata": {},
   "source": [
    "## Define the rest of the metadata\n",
    "Things needed to build the record"
   ]
  },
  {
   "cell_type": "code",
   "execution_count": 8,
   "id": "c1784065-10a5-4a96-bc67-51457b15916e",
   "metadata": {},
   "outputs": [],
   "source": [
    "description = ('This dataset contains summary inputs and outputs generated for the Paper \"Approaching QMC quality energetics throughout chemical space using scalable quantum machine learning\"'\n",
    "               'By B. Huang, O. Anatole von Lilienfeld, J. T. Krogel and A. Benali. '\n",
    "               'The dataset includes energies for 1175 molecules calculated with varying methods, uncertainties associated with the DMC calculations, and molecular descriptions in XYZ, SMILES, and InChI format. '\n",
    "               'Raw data for these calculations are available at https://doi.org/10.18126/hxlp-v732')"
   ]
  },
  {
   "cell_type": "code",
   "execution_count": 9,
   "id": "4980e5a9-eea8-4684-adf7-dfec97d3edf5",
   "metadata": {},
   "outputs": [],
   "source": [
    "title = 'Foundry - Approaching QMC quality energetics throughout chemical space using scalable quantum machine learning'"
   ]
  },
  {
   "cell_type": "code",
   "execution_count": 10,
   "id": "3a80817a-4790-47b7-a006-d14f9615835b",
   "metadata": {},
   "outputs": [],
   "source": [
    "authors = ['Huang, Bing', 'von Lilienfeld, O.', 'Krogel, Jaron T.', 'Benali, Anouar']"
   ]
  },
  {
   "cell_type": "code",
   "execution_count": 11,
   "id": "84ac2073-b5b8-4433-ac77-bcda4d850433",
   "metadata": {},
   "outputs": [],
   "source": [
    "short_name = 'TBD'"
   ]
  },
  {
   "cell_type": "code",
   "execution_count": 12,
   "id": "fd38e7cf-d18b-45c1-907b-e2d65788e411",
   "metadata": {},
   "outputs": [],
   "source": [
    "affiliations = [['University of Vienna'], ['University of Toronto, Technische Universitat Berlin'], ['Oak Ridge National Laboratory'], ['Argonne National Laboratory']]"
   ]
  },
  {
   "cell_type": "code",
   "execution_count": 13,
   "id": "fba0a5e6-e57e-45be-8dbf-9787d8870485",
   "metadata": {},
   "outputs": [],
   "source": [
    "related_dois = ['10.18126/hxlp-v732']"
   ]
  },
  {
   "cell_type": "code",
   "execution_count": 14,
   "id": "123a365b-fd2e-42f1-a45a-385f5d964d95",
   "metadata": {},
   "outputs": [],
   "source": [
    "publisher = \"Materials Data Facility\""
   ]
  },
  {
   "cell_type": "code",
   "execution_count": 15,
   "id": "4e17f9cb-1df0-4e98-bcee-d4cc878c127a",
   "metadata": {},
   "outputs": [],
   "source": [
    "publication_year = 2021"
   ]
  },
  {
   "cell_type": "code",
   "execution_count": null,
   "id": "5a4d34b9-dcc6-4d1d-a5ea-512b1773f1ad",
   "metadata": {},
   "outputs": [],
   "source": []
  }
 ],
 "metadata": {
  "kernelspec": {
   "display_name": "Python 3 (ipykernel)",
   "language": "python",
   "name": "python3"
  },
  "language_info": {
   "codemirror_mode": {
    "name": "ipython",
    "version": 3
   },
   "file_extension": ".py",
   "mimetype": "text/x-python",
   "name": "python",
   "nbconvert_exporter": "python",
   "pygments_lexer": "ipython3",
   "version": "3.10.6"
  }
 },
 "nbformat": 4,
 "nbformat_minor": 5
}
