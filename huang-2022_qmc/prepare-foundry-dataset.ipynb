{
 "cells": [
  {
   "cell_type": "markdown",
   "id": "d2775729-5456-4185-a264-90c708864ada",
   "metadata": {},
   "source": [
    "# Summarize the QMCPack Output Data\n",
    "The data published in the MDF are the raw outputs of simulation codes. This notebook processes it into a dataframe of energies following the instructions in the [README](https://data.materialsdatafacility.org/mdf_open/qmc_ml_v1.1/README.md)"
   ]
  },
  {
   "cell_type": "code",
   "execution_count": 1,
   "id": "5efd41b0-da45-429a-b9fa-8ee37db26999",
   "metadata": {},
   "outputs": [],
   "source": [
    "from concurrent.futures import ThreadPoolExecutor\n",
    "from tempfile import TemporaryDirectory\n",
    "from foundry import Foundry\n",
    "from openbabel import pybel\n",
    "from threading import Lock\n",
    "from subprocess import run\n",
    "from pathlib import Path\n",
    "from time import sleep\n",
    "from math import isclose\n",
    "from tqdm import tqdm\n",
    "import pandas as pd\n",
    "import requests\n",
    "import re"
   ]
  },
  {
   "cell_type": "code",
   "execution_count": 2,
   "id": "b8d1d6ed-7de5-4ed1-a35c-1acf786bea92",
   "metadata": {},
   "outputs": [],
   "source": [
    "pybel.ob.obErrorLog.SetOutputLevel(0)"
   ]
  },
  {
   "cell_type": "markdown",
   "id": "ce5d0132-11ce-427b-aae5-095b245d4219",
   "metadata": {},
   "source": [
    "Configuration"
   ]
  },
  {
   "cell_type": "code",
   "execution_count": 3,
   "id": "e828bef7-56cb-4620-87bb-554c080ef87b",
   "metadata": {},
   "outputs": [],
   "source": [
    "qmca_path = '/home/lward/Software/qmcpack-3.15.0/nexus/bin/qmca'  # Path to the QMCA executable on your system"
   ]
  },
  {
   "cell_type": "code",
   "execution_count": 4,
   "id": "61f32428-8372-4582-a150-b8f3b95c29e7",
   "metadata": {},
   "outputs": [],
   "source": [
    "num_fragments = 1175  # Number of fragments\n",
    "starting_theories = ['HF', 'PBE', 'PBE0', 'B3LYP']  # Theories used for the starting wfc"
   ]
  },
  {
   "cell_type": "code",
   "execution_count": 5,
   "id": "d721d59d-3cb8-4357-ab2e-541a89f175af",
   "metadata": {},
   "outputs": [],
   "source": [
    "dataset_path = '/mdf_open/qmc_ml_v1.1'  # Path to the dataset on the MDF services\n",
    "base_url = f'https://data.materialsdatafacility.org/{dataset_path}'  # HTTP access\n",
    "endpoint = '82f1b5c6-6e9b-11e5-ba47-22000b92c6ec'  # Globus endpoint"
   ]
  },
  {
   "cell_type": "markdown",
   "id": "b8aceca0-e528-4351-b9eb-d9f03b321d5e",
   "metadata": {},
   "source": [
    "## Define the Key Functions\n",
    "We need something to iterate through the dataset and process the data once downloaded"
   ]
  },
  {
   "cell_type": "markdown",
   "id": "9f99df28-6c07-46d0-99f1-41411835ffd2",
   "metadata": {},
   "source": [
    "### Download Functions\n",
    "The directories of this dataset are laid out in predictable ways. The path to the DMC computation is always `/frag_{frag_id}/{base_wfc}/DMC/` and filenames are also well-defined.\n",
    "\n",
    "We create functions for accessing specific data needed in our datasets"
   ]
  },
  {
   "cell_type": "markdown",
   "id": "db8bba24-f374-413d-a3ee-b7ff3c4c75c9",
   "metadata": {},
   "source": [
    "Make a Foundry client so we can use it to access Globus APIs"
   ]
  },
  {
   "cell_type": "code",
   "execution_count": 6,
   "id": "ac5024a6-d89a-4baa-8827-4522198517c5",
   "metadata": {},
   "outputs": [],
   "source": [
    "foundry = Foundry()  # We'll use this to help you access the Globus API"
   ]
  },
  {
   "cell_type": "markdown",
   "id": "ca3da862-edab-42b4-9c63-3fdec13bab4c",
   "metadata": {},
   "source": [
    "Make a requests session with retries to make HTTP more robust"
   ]
  },
  {
   "cell_type": "code",
   "execution_count": 7,
   "id": "cfa93a91-d945-49f4-839f-4075cb7675c3",
   "metadata": {},
   "outputs": [],
   "source": [
    "s = requests.Session()\n",
    "s.mount(f'https://{base_url}/', requests.adapters.HTTPAdapter(max_retries=8, pool_block=True))\n",
    "def make_request(url):\n",
    "    while True:\n",
    "        try:\n",
    "            return s.get(url, timeout=30)\n",
    "        except (requests.Timeout, requests.ConnectionError):\n",
    "            sleep(5)"
   ]
  },
  {
   "cell_type": "code",
   "execution_count": 8,
   "id": "8c3a47bf-21ae-4320-ab0d-c505334b31b0",
   "metadata": {},
   "outputs": [],
   "source": [
    "def make_frag_name(frag_id: int) -> str:\n",
    "    \"\"\"Format the name of a fragment appropriately\n",
    "    \n",
    "    Args:\n",
    "        frag_id: ID of the fragment\n",
    "    Returns:\n",
    "        Fragment name\n",
    "    \"\"\"\n",
    "    return f'frag_{frag_id:05d}'\n",
    "assert make_frag_name(1) == 'frag_00001'"
   ]
  },
  {
   "cell_type": "code",
   "execution_count": 9,
   "id": "2437812e-5c6a-4c0f-8912-1b1b52b7457d",
   "metadata": {},
   "outputs": [],
   "source": [
    "def get_xyz(frag_id: int) -> str:\n",
    "    \"\"\"Get the molecular geometry for this computation\n",
    "    \n",
    "    Returns:\n",
    "        Geometry in XYZ format\n",
    "    \"\"\"\n",
    "    \n",
    "    frag_name = make_frag_name(frag_id)\n",
    "    url = f'{base_url}/{frag_name}/{frag_name}.xyz'\n",
    "    xyz = make_request(url).text\n",
    "    \n",
    "    # Add in the header information to make it easier to parse\n",
    "    n_atoms = xyz.count('\\n')\n",
    "    return f'{n_atoms}\\n{frag_name}\\n{xyz}'\n",
    "xyz = get_xyz(1)\n",
    "assert xyz.startswith('5\\nfrag_00001\\n  C   0.95761131890095')"
   ]
  },
  {
   "cell_type": "code",
   "execution_count": 10,
   "id": "53b87cf6-9ef9-4e5a-bd1d-15d55fe85e80",
   "metadata": {},
   "outputs": [],
   "source": [
    "def get_base_theory_output(frag_id: int, theory: str) -> str:\n",
    "    \"\"\"Get the PySCF output file from the base level of theory\n",
    "    \n",
    "    \n",
    "    Args:\n",
    "        frag_id: ID of the fragment\n",
    "        theory: Theory used to compute the energy\n",
    "    Returns:\n",
    "        Output file in plaintext\n",
    "    \"\"\"\n",
    "    \n",
    "    frag_name = make_frag_name(frag_id)\n",
    "    url = f'{base_url}/{frag_name}/{theory}/frag{frag_id:05d}.out'\n",
    "    return make_request(url).text\n",
    "b3lyp_out = get_base_theory_output(1, 'B3LYP')\n",
    "assert b3lyp_out.startswith('#INFO:')"
   ]
  },
  {
   "cell_type": "code",
   "execution_count": 11,
   "id": "f39db5ae-91c5-4078-b1a7-c7740069d320",
   "metadata": {},
   "outputs": [],
   "source": [
    "lock = Lock()  # Only one Globus query per process\n",
    "def get_dmc_output(frag_id: int, theory: str) -> str:\n",
    "    \"\"\"Get the scalar.out file for the last DMC series\n",
    "    \n",
    "    \n",
    "    Args:\n",
    "        frag_id: ID of the fragment\n",
    "        theory: Theory used to compute the initial guess\n",
    "    Returns:\n",
    "        Scalar file in plaintext\n",
    "    \"\"\"\n",
    "    \n",
    "    # Determine the filename of the output \n",
    "    frag_name = make_frag_name(frag_id)\n",
    "    dmc_path = f'{dataset_path}/{frag_name}/{theory}/DMC/'\n",
    "    output_file = None\n",
    "    with lock:\n",
    "        for entry in foundry.transfer_client.operation_ls(endpoint, dmc_path):\n",
    "            if entry['name'].endswith('s015.scalar.dat'):  # Find the last QMC step\n",
    "                output_file = entry['name']\n",
    "                break\n",
    "    assert output_file is not None\n",
    "    \n",
    "    url = f'{base_url}/{frag_name}/{theory}/DMC/{output_file}'\n",
    "    result = make_request(url)\n",
    "    assert result.status_code == 200, result.text\n",
    "    return result.text\n",
    "dmc_out = get_dmc_output(1, 'B3LYP')\n",
    "assert dmc_out.startswith('#   index')"
   ]
  },
  {
   "cell_type": "markdown",
   "id": "8d2e9107-30c8-48ea-a08b-fd7a5a13a7ca",
   "metadata": {},
   "source": [
    "### Processing Functions\n",
    "Functions that take the downloaded information and render useable information out of it"
   ]
  },
  {
   "cell_type": "code",
   "execution_count": 12,
   "id": "f5c50211-3ac8-4df4-826b-61b86abcc46d",
   "metadata": {},
   "outputs": [],
   "source": [
    "def get_molecule_identifiers(xyz: str) -> (str, str):\n",
    "    \"\"\"Get SMILES string from the XYZ format\n",
    "    \n",
    "    Args:\n",
    "        xyz: Structure of molecule\n",
    "    Returns:\n",
    "        - SMILES string\n",
    "        - InChI string\n",
    "    \"\"\"\n",
    "    mol = pybel.readstring('xyz', xyz)\n",
    "    return mol.write('smi').split(\"\\t\")[0], mol.write('inchi').strip()\n",
    "smiles, inchi = get_molecule_identifiers(xyz)"
   ]
  },
  {
   "cell_type": "code",
   "execution_count": 13,
   "id": "81609199-adc9-4737-8889-a3bf7fba9a7f",
   "metadata": {},
   "outputs": [],
   "source": [
    "energy_re = re.compile(r'converged SCF energy = (?P<energy>[-\\d\\.]+)')\n",
    "\n",
    "def get_base_energy(pyscf_out: str) -> float:\n",
    "    \"\"\"Get the PySCF energy\n",
    "    \n",
    "    Args:\n",
    "        pyscf_out: Output from a PySCF computation\n",
    "    Returns:\n",
    "        Energy\n",
    "    \"\"\"\n",
    "    \n",
    "    matches = energy_re.findall(pyscf_out)\n",
    "    if len(matches) == 0:\n",
    "        raise ValueError('No SCF energy!?')\n",
    "    return float(matches[0])\n",
    "assert isclose(get_base_energy(b3lyp_out), -40.50228077)"
   ]
  },
  {
   "cell_type": "code",
   "execution_count": 14,
   "id": "dd276525-2a45-49cc-b835-7e77cec5b8c6",
   "metadata": {},
   "outputs": [],
   "source": [
    "qmca_re = re.compile(r'series 0 +(?P<mean>[-\\.\\d]+) \\+/- (?P<err>[-\\.\\d]+)')\n",
    "def get_dmc_energy(scalar_out: str) -> (float, float):\n",
    "    \"\"\"Get the output energy and variance from a QMC computation\n",
    "    \n",
    "    Calls QMCA to determine them automatically\n",
    "    \n",
    "    Args:\n",
    "        scalar_out: Scalar output from the simulation\n",
    "    Returns:\n",
    "        Mean and error for the computation\n",
    "    \"\"\"\n",
    "\n",
    "    # Invoke QMCA\n",
    "    with TemporaryDirectory(dir='.') as tmp:\n",
    "        # Temporary directory to avoid conflicts between threads\n",
    "        scalar_path = Path(tmp) / 'test.g000.s000.scalar.dat'\n",
    "        with open(scalar_path, 'w') as fp:\n",
    "            print(scalar_out, file=fp)\n",
    "        output = run([qmca_path, '-q', 'ev', scalar_path], capture_output=True, text=True)\n",
    "    \n",
    "    # Get the energies\n",
    "    match = qmca_re.search(output.stdout)\n",
    "    if match is None:\n",
    "        raise ValueError(output)\n",
    "    energy, error = match.groups()\n",
    "    return float(energy), float(error)\n",
    "energy, error = get_dmc_energy(dmc_out)\n",
    "assert isclose(energy, -40.507445, abs_tol=error)\n",
    "assert isclose(error, 0.000268, abs_tol=1e-4)"
   ]
  },
  {
   "cell_type": "markdown",
   "id": "8d86cbbe-3451-485f-aa03-7cdb7afb3bf6",
   "metadata": {},
   "source": [
    "## Run the full thing\n",
    "Get the data for every fragment"
   ]
  },
  {
   "cell_type": "code",
   "execution_count": 15,
   "id": "84d100d4-0dab-4d65-81ad-f85d2aef6b84",
   "metadata": {},
   "outputs": [
    {
     "data": {
      "text/plain": [
       "{'fragment': 1175,\n",
       " 'smiles': 'o1cnnc1',\n",
       " 'inchi': 'InChI=1S/C2H2N2O/c1-3-4-2-5-1/h1-2H',\n",
       " 'xyz': '7\\nfrag_01175\\n  O   -0.35718091715119     -1.10236409490513     -0.00399495556771\\n  C   -1.09840997106521      0.03544868082879     -0.00207290982889\\n  N   -0.38702425410702      1.10402513231628      0.00033442532297\\n  N   0.94836418591065      0.67604166909837      0.00003461309664\\n  C   0.90622109656799     -0.60686429057309     -0.00224705301157\\n  H   -2.17145828261521     -0.05765530136078     -0.00275374497995\\n  H   1.72308814235999     -1.30793179540444     -0.00320037513148\\n',\n",
       " 'HF': -260.704596557406,\n",
       " 'DMC(HF)': -262.02708,\n",
       " 'DMC(HF)_err': 0.000671,\n",
       " 'PBE': -261.904890823716,\n",
       " 'DMC(PBE)': -262.036121,\n",
       " 'DMC(PBE)_err': 0.000629,\n",
       " 'PBE0': -261.89986731426,\n",
       " 'DMC(PBE0)': -262.03627,\n",
       " 'DMC(PBE0)_err': 0.000607,\n",
       " 'B3LYP': -262.056860579202,\n",
       " 'DMC(B3LYP)': -262.036063,\n",
       " 'DMC(B3LYP)_err': 0.000589}"
      ]
     },
     "execution_count": 15,
     "metadata": {},
     "output_type": "execute_result"
    }
   ],
   "source": [
    "def get_record(frag_id: int) -> dict:\n",
    "    \"\"\"Get all the information for a certain fragment\n",
    "    \n",
    "    Args:\n",
    "        frag_id: ID number of the fragment\n",
    "    Returns:\n",
    "        Dictionairy containing a complete record of the fragment\n",
    "    \"\"\"\n",
    "    # Get the XYZ file\n",
    "    xyz = get_xyz(frag_id)\n",
    "    \n",
    "    # Convert it to SMILES then start the record\n",
    "    smiles, inchi = get_molecule_identifiers(xyz)\n",
    "    record = {\n",
    "        'fragment': frag_id,\n",
    "        'smiles': smiles,\n",
    "        'inchi': inchi,\n",
    "        'xyz': xyz,\n",
    "    }\n",
    "    \n",
    "    # Gather data from each theory\n",
    "    for theory in starting_theories:\n",
    "        # Get the starting energy for this level\n",
    "        output = get_base_theory_output(frag_id, theory)\n",
    "        record[theory] = get_base_energy(output)\n",
    "        \n",
    "        # Get the DMC energy\n",
    "        scalar_out = get_dmc_output(frag_id, theory)\n",
    "        energy, error = get_dmc_energy(scalar_out)\n",
    "        record[f'DMC({theory})'] = energy\n",
    "        record[f'DMC({theory})_err'] = error\n",
    "\n",
    "    return record\n",
    "get_record(num_fragments)"
   ]
  },
  {
   "cell_type": "code",
   "execution_count": 16,
   "id": "ca9e3e01-dcda-4fa5-986e-7e18528f8624",
   "metadata": {},
   "outputs": [
    {
     "name": "stderr",
     "output_type": "stream",
     "text": [
      "100%|███████████████████████████████████████████████████████████████████████████████████████████████████████████████████████████████████████████████████████████████████| 1175/1175 [1:19:21<00:00,  4.05s/it]\n"
     ]
    },
    {
     "data": {
      "text/html": [
       "<div>\n",
       "<style scoped>\n",
       "    .dataframe tbody tr th:only-of-type {\n",
       "        vertical-align: middle;\n",
       "    }\n",
       "\n",
       "    .dataframe tbody tr th {\n",
       "        vertical-align: top;\n",
       "    }\n",
       "\n",
       "    .dataframe thead th {\n",
       "        text-align: right;\n",
       "    }\n",
       "</style>\n",
       "<table border=\"1\" class=\"dataframe\">\n",
       "  <thead>\n",
       "    <tr style=\"text-align: right;\">\n",
       "      <th></th>\n",
       "      <th>fragment</th>\n",
       "      <th>smiles</th>\n",
       "      <th>inchi</th>\n",
       "      <th>xyz</th>\n",
       "      <th>HF</th>\n",
       "      <th>DMC(HF)</th>\n",
       "      <th>DMC(HF)_err</th>\n",
       "      <th>PBE</th>\n",
       "      <th>DMC(PBE)</th>\n",
       "      <th>DMC(PBE)_err</th>\n",
       "      <th>PBE0</th>\n",
       "      <th>DMC(PBE0)</th>\n",
       "      <th>DMC(PBE0)_err</th>\n",
       "      <th>B3LYP</th>\n",
       "      <th>DMC(B3LYP)</th>\n",
       "      <th>DMC(B3LYP)_err</th>\n",
       "    </tr>\n",
       "  </thead>\n",
       "  <tbody>\n",
       "    <tr>\n",
       "      <th>0</th>\n",
       "      <td>1</td>\n",
       "      <td>C</td>\n",
       "      <td>InChI=1S/CH4/h1H4</td>\n",
       "      <td>5\\nfrag_00001\\n  C   0.95761131890095     -0.0...</td>\n",
       "      <td>-40.213319</td>\n",
       "      <td>-40.505945</td>\n",
       "      <td>0.000254</td>\n",
       "      <td>-40.463311</td>\n",
       "      <td>-40.507007</td>\n",
       "      <td>0.000324</td>\n",
       "      <td>-40.474441</td>\n",
       "      <td>-40.506365</td>\n",
       "      <td>0.000276</td>\n",
       "      <td>-40.502281</td>\n",
       "      <td>-40.507445</td>\n",
       "      <td>0.000268</td>\n",
       "    </tr>\n",
       "    <tr>\n",
       "      <th>1</th>\n",
       "      <td>2</td>\n",
       "      <td>N</td>\n",
       "      <td>InChI=1S/H3N/h1H3</td>\n",
       "      <td>4\\nfrag_00002\\n  N   0.95838313325616      0.0...</td>\n",
       "      <td>-56.217747</td>\n",
       "      <td>-56.548449</td>\n",
       "      <td>0.000294</td>\n",
       "      <td>-56.506473</td>\n",
       "      <td>-56.549669</td>\n",
       "      <td>0.000311</td>\n",
       "      <td>-56.512004</td>\n",
       "      <td>-56.549934</td>\n",
       "      <td>0.000333</td>\n",
       "      <td>-56.548145</td>\n",
       "      <td>-56.548902</td>\n",
       "      <td>0.001752</td>\n",
       "    </tr>\n",
       "    <tr>\n",
       "      <th>2</th>\n",
       "      <td>3</td>\n",
       "      <td>O</td>\n",
       "      <td>InChI=1S/H2O/h1H2</td>\n",
       "      <td>3\\nfrag_00003\\n  O   1.01914638660453     -0.0...</td>\n",
       "      <td>-76.056712</td>\n",
       "      <td>-76.418847</td>\n",
       "      <td>0.000558</td>\n",
       "      <td>-76.372988</td>\n",
       "      <td>-76.420451</td>\n",
       "      <td>0.000307</td>\n",
       "      <td>-76.374332</td>\n",
       "      <td>-76.420688</td>\n",
       "      <td>0.000326</td>\n",
       "      <td>-76.422727</td>\n",
       "      <td>-76.414041</td>\n",
       "      <td>0.001772</td>\n",
       "    </tr>\n",
       "    <tr>\n",
       "      <th>3</th>\n",
       "      <td>4</td>\n",
       "      <td>C#C</td>\n",
       "      <td>InChI=1S/C2H2/c1-2/h1-2H</td>\n",
       "      <td>4\\nfrag_00004\\n  C   0.98989790782649      0.0...</td>\n",
       "      <td>-76.849752</td>\n",
       "      <td>-77.311674</td>\n",
       "      <td>0.000345</td>\n",
       "      <td>-77.249870</td>\n",
       "      <td>-77.313619</td>\n",
       "      <td>0.000428</td>\n",
       "      <td>-77.254838</td>\n",
       "      <td>-77.313950</td>\n",
       "      <td>0.000327</td>\n",
       "      <td>-77.312373</td>\n",
       "      <td>-77.313163</td>\n",
       "      <td>0.000452</td>\n",
       "    </tr>\n",
       "    <tr>\n",
       "      <th>4</th>\n",
       "      <td>5</td>\n",
       "      <td>C#N</td>\n",
       "      <td>InChI=1S/CHN/c1-2/h1H</td>\n",
       "      <td>3\\nfrag_00005\\n  C   0.97091888623401     -0.0...</td>\n",
       "      <td>-92.908793</td>\n",
       "      <td>-93.400895</td>\n",
       "      <td>0.000346</td>\n",
       "      <td>-93.343723</td>\n",
       "      <td>-93.404958</td>\n",
       "      <td>0.000470</td>\n",
       "      <td>-93.342293</td>\n",
       "      <td>-93.403561</td>\n",
       "      <td>0.000381</td>\n",
       "      <td>-93.409677</td>\n",
       "      <td>-93.402739</td>\n",
       "      <td>0.000344</td>\n",
       "    </tr>\n",
       "  </tbody>\n",
       "</table>\n",
       "</div>"
      ],
      "text/plain": [
       "   fragment smiles                     inchi  \\\n",
       "0         1      C         InChI=1S/CH4/h1H4   \n",
       "1         2      N         InChI=1S/H3N/h1H3   \n",
       "2         3      O         InChI=1S/H2O/h1H2   \n",
       "3         4    C#C  InChI=1S/C2H2/c1-2/h1-2H   \n",
       "4         5    C#N     InChI=1S/CHN/c1-2/h1H   \n",
       "\n",
       "                                                 xyz         HF    DMC(HF)  \\\n",
       "0  5\\nfrag_00001\\n  C   0.95761131890095     -0.0... -40.213319 -40.505945   \n",
       "1  4\\nfrag_00002\\n  N   0.95838313325616      0.0... -56.217747 -56.548449   \n",
       "2  3\\nfrag_00003\\n  O   1.01914638660453     -0.0... -76.056712 -76.418847   \n",
       "3  4\\nfrag_00004\\n  C   0.98989790782649      0.0... -76.849752 -77.311674   \n",
       "4  3\\nfrag_00005\\n  C   0.97091888623401     -0.0... -92.908793 -93.400895   \n",
       "\n",
       "   DMC(HF)_err        PBE   DMC(PBE)  DMC(PBE)_err       PBE0  DMC(PBE0)  \\\n",
       "0     0.000254 -40.463311 -40.507007      0.000324 -40.474441 -40.506365   \n",
       "1     0.000294 -56.506473 -56.549669      0.000311 -56.512004 -56.549934   \n",
       "2     0.000558 -76.372988 -76.420451      0.000307 -76.374332 -76.420688   \n",
       "3     0.000345 -77.249870 -77.313619      0.000428 -77.254838 -77.313950   \n",
       "4     0.000346 -93.343723 -93.404958      0.000470 -93.342293 -93.403561   \n",
       "\n",
       "   DMC(PBE0)_err      B3LYP  DMC(B3LYP)  DMC(B3LYP)_err  \n",
       "0       0.000276 -40.502281  -40.507445        0.000268  \n",
       "1       0.000333 -56.548145  -56.548902        0.001752  \n",
       "2       0.000326 -76.422727  -76.414041        0.001772  \n",
       "3       0.000327 -77.312373  -77.313163        0.000452  \n",
       "4       0.000381 -93.409677  -93.402739        0.000344  "
      ]
     },
     "execution_count": 16,
     "metadata": {},
     "output_type": "execute_result"
    }
   ],
   "source": [
    "frag_iter = range(1, num_fragments + 1)\n",
    "with ThreadPoolExecutor(16) as ex:\n",
    "    records = [r for r in tqdm(ex.map(get_record, frag_iter), total=num_fragments)]\n",
    "records = pd.DataFrame(records)\n",
    "records.head(5)"
   ]
  },
  {
   "cell_type": "markdown",
   "id": "85c8c155-efb1-4709-b267-24f8c3560e54",
   "metadata": {},
   "source": [
    "Save it to disk in CSV format"
   ]
  },
  {
   "cell_type": "code",
   "execution_count": 17,
   "id": "0df44db3-04ed-473f-b5b7-35d58feef9da",
   "metadata": {},
   "outputs": [],
   "source": [
    "records.to_csv('QMC_AMIONS_NI_LE.csv', index=False)"
   ]
  }
 ],
 "metadata": {
  "kernelspec": {
   "display_name": "Python 3 (ipykernel)",
   "language": "python",
   "name": "python3"
  },
  "language_info": {
   "codemirror_mode": {
    "name": "ipython",
    "version": 3
   },
   "file_extension": ".py",
   "mimetype": "text/x-python",
   "name": "python",
   "nbconvert_exporter": "python",
   "pygments_lexer": "ipython3",
   "version": "3.10.6"
  }
 },
 "nbformat": 4,
 "nbformat_minor": 5
}
